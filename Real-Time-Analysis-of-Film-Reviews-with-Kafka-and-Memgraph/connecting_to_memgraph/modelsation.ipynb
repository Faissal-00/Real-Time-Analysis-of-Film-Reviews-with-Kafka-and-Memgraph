{
 "cells": [
  {
   "cell_type": "code",
   "execution_count": 1,
   "id": "ecc741bd",
   "metadata": {},
   "outputs": [],
   "source": [
    "from py2neo import Graph, Node, Relationship\n",
    "\n",
    "def write_into_memgraph(data):\n",
    "    # Connect to Memgraph\n",
    "    graph = Graph(\"bolt://localhost:7687\")\n",
    "\n",
    "    # Extract data from the data\n",
    "    user_id = data[\"userId\"]\n",
    "    movie_id = data[\"movie\"][\"movieId\"]\n",
    "    movie_title = data[\"movie\"][\"title\"]\n",
    "    genres = data[\"movie\"][\"genres\"]\n",
    "    rating_value = data[\"rating\"]\n",
    "    timestamp = data[\"timestamp\"]\n",
    "\n",
    "    # Create User node if it doesn't exist\n",
    "    user_node = graph.nodes.match(\"User\", user_id=user_id).first()\n",
    "    if not user_node:\n",
    "        user_node = Node(\"User\", user_id=user_id)\n",
    "        graph.create(user_node)\n",
    "\n",
    "    # Create Movie node if it doesn't exist\n",
    "    movie_node = graph.nodes.match(\"Movie\", movie_id=movie_id).first()\n",
    "    if not movie_node:\n",
    "        movie_node = Node(\"Movie\", movie_id=movie_id, title=movie_title)\n",
    "        graph.create(movie_node)\n",
    "\n",
    "    # Create Rating node if it doesn't exist\n",
    "    rating_node = graph.nodes.match(\"Rating\", value=rating_value).first()\n",
    "    if not rating_node:\n",
    "        rating_node = Node(\"Rating\", value=rating_value)\n",
    "        graph.create(rating_node)\n",
    "\n",
    "    # Create Category nodes and BELONGS_TO relationships\n",
    "    for genre in genres:\n",
    "        category_node = graph.nodes.match(\"Category\", name=genre).first()\n",
    "        if not category_node:\n",
    "            category_node = Node(\"Category\", name=genre)\n",
    "            graph.create(category_node)\n",
    "        graph.merge(Relationship(movie_node, \"BELONGS_TO\", category_node))\n",
    "\n",
    "    # Create relationships between nodes\n",
    "    graph.create(Relationship(user_node, \"RATED\", movie_node, timestamp=timestamp))\n",
    "    graph.create(Relationship(user_node, \"GAVE\", rating_node, timestamp=timestamp))\n",
    "    graph.create(Relationship(rating_node, \"HAS\", movie_node))\n",
    "\n",
    "# Example usage\n",
    "example_data = {'movie': {'genres': ['Comedy', 'Romance'], 'movieId': '111', 'title': 'Truth About Cats & Dogs, The (1996)'}, 'rating': '4', 'timestamp': '881251793', 'userId': '196'}\n",
    "\n",
    "\n",
    "write_into_memgraph(example_data)\n"
   ]
  },
  {
   "cell_type": "code",
   "execution_count": 2,
   "id": "bb2a9161",
   "metadata": {},
   "outputs": [
    {
     "name": "stdout",
     "output_type": "stream",
     "text": [
      "User ID: None - Movie Title: Truth About Cats & Dogs, The (1996) - Genres: Comedy, Romance\n"
     ]
    }
   ],
   "source": [
    "from py2neo import Graph\n",
    "\n",
    "def read_from_memgraph():\n",
    "    # Connect to Memgraph\n",
    "    graph = Graph(\"bolt://localhost:7687\")\n",
    "\n",
    "    # Cypher query to retrieve user, movie, and associated genres\n",
    "    cypher_query = \"\"\"\n",
    "    MATCH (u:User)-[r:RATED]->(m:Movie)-[:BELONGS_TO]->(g:Category)\n",
    "    RETURN u.userId AS user_id, m.title AS movie_title, COLLECT(g.name) AS genres\n",
    "    \"\"\"\n",
    "\n",
    "    result = graph.run(cypher_query)\n",
    "\n",
    "    # Process the result\n",
    "    for record in result:\n",
    "        user_id = record['user_id']\n",
    "        movie_title = record['movie_title']\n",
    "        genres = record['genres']\n",
    "        print(f\"User ID: {user_id} - Movie Title: {movie_title} - Genres: {', '.join(genres)}\")\n",
    "\n",
    "# Call the function to read data\n",
    "read_from_memgraph()\n"
   ]
  },
  {
   "cell_type": "code",
   "execution_count": null,
   "id": "0f75fd16",
   "metadata": {},
   "outputs": [],
   "source": []
  }
 ],
 "metadata": {
  "kernelspec": {
   "display_name": "Python 3 (ipykernel)",
   "language": "python",
   "name": "python3"
  },
  "language_info": {
   "codemirror_mode": {
    "name": "ipython",
    "version": 3
   },
   "file_extension": ".py",
   "mimetype": "text/x-python",
   "name": "python",
   "nbconvert_exporter": "python",
   "pygments_lexer": "ipython3",
   "version": "3.11.6"
  }
 },
 "nbformat": 4,
 "nbformat_minor": 5
}
